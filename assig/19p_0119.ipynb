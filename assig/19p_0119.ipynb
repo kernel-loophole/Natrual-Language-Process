{
  "nbformat": 4,
  "nbformat_minor": 0,
  "metadata": {
    "colab": {
      "provenance": []
    },
    "kernelspec": {
      "name": "python3",
      "display_name": "Python 3"
    },
    "language_info": {
      "name": "python"
    }
  },
  "cells": [
    {
      "cell_type": "code",
      "execution_count": 5,
      "metadata": {
        "id": "JHd9V_XBxTSb"
      },
      "outputs": [],
      "source": [
        "import re "
      ]
    },
    {
      "cell_type": "code",
      "source": [
        "string_test=\"\"\"بے چاری عوام چونکہ ہمیشہ سے دھوکہ کھانے کی عادی رہی ہے اس لئے ‘‘تبدیلی سرکار’’ کی چکنی چپڑی باتوں میں آگئی اور اپنے بہتر مستقبل\n",
        "کے لئے نئی حکومت کو اقتدار کے ایوانوں تک پہنچا دیا\"\"\""
      ],
      "metadata": {
        "id": "OOktL0z5y06F"
      },
      "execution_count": 6,
      "outputs": []
    },
    {
      "cell_type": "code",
      "source": [
        "# word_tokenize(string_test)\n",
        "def regex_tokken(string):\n",
        "  words = re.findall(r'\\w+', string)\n",
        "  return words \n"
      ],
      "metadata": {
        "id": "56HOOdcW1EEf"
      },
      "execution_count": 8,
      "outputs": []
    },
    {
      "cell_type": "code",
      "source": [
        "def read_from_file(filename):\n",
        "  with open(filename,'r') as file:\n",
        "    file_content=file.readlines()\n",
        "  sum_of_words = ''.join(file_content)\n",
        "  return sum_of_words"
      ],
      "metadata": {
        "id": "9Bkmp_ll1MfP"
      },
      "execution_count": 11,
      "outputs": []
    },
    {
      "cell_type": "code",
      "source": [
        "def findig_common_words(string,common_word_list):\n",
        "  tmp_string=''\n",
        "  list_of_words_after_adding=[]\n",
        "  words_list=[]\n",
        "  final_str=''\n",
        "  for i in string:\n",
        "    tmp_string=i\n",
        "    tmp_string+=\" \"\n",
        "    words_list.append(tmp_string)\n",
        "    if i in common_word_list and len(words_list)>8:\n",
        "      sum_of_words = ''.join(words_list)\n",
        "      list_of_words_after_adding.append(sum_of_words)\n",
        "  for j in list_of_words_after_adding:\n",
        "    final_str=final_str+j+'-'\n",
        "  return \"-\"+final_str\n",
        "\n"
      ],
      "metadata": {
        "id": "cyJGG7-4CJOd"
      },
      "execution_count": 78,
      "outputs": []
    },
    {
      "cell_type": "code",
      "source": [
        "def main():\n",
        "  file_content=read_from_file('sample.txt')\n",
        "  segmention_of_words=regex_tokken(file_content)\n",
        "  list_of_words=[\"ہونا\", \"ہونگے\", \"ہونی\", \"ہوں\", \"ہی\", \"ہیں\", \"ہے\", \"یہ\", \"یہاں\", \"یہی\", \"یہیں\",\"تھا\",\"تھی\",\"تھیں\",\"تھے\",\"نہیں\",\"گا\",\"گئی\",\"گیا\",\"دیا\"]\n",
        "  text=findig_common_words(segmention_of_words,list_of_words)\n",
        "  print(text)\n",
        "  # with open('output.txt','w') as f:\n",
        "  #   f.writelines(text)\n",
        "\n"
      ],
      "metadata": {
        "id": "KCZAjpEA14nR"
      },
      "execution_count": 79,
      "outputs": []
    },
    {
      "cell_type": "code",
      "source": [
        "main()"
      ],
      "metadata": {
        "colab": {
          "base_uri": "https://localhost:8080/"
        },
        "id": "E3rnyyMmAnqG",
        "outputId": "f7b925e9-97e7-40a4-c519-550ac7df04b7"
      },
      "execution_count": 80,
      "outputs": [
        {
          "output_type": "stream",
          "name": "stdout",
          "text": [
            "-بے چاری عوام چونکہ ہمیشہ سے دھوکہ کھانے کی عادی رہی ہے -بے چاری عوام چونکہ ہمیشہ سے دھوکہ کھانے کی عادی رہی ہے اس لئے تبدیلی سرکار کی چکنی چپڑی باتوں میں آگئی اور اپنے بہتر مستقبل کے لئے نئی حکومت کو اقتدار کے ایوانوں تک پہنچا دیا -\n"
          ]
        }
      ]
    },
    {
      "cell_type": "code",
      "source": [],
      "metadata": {
        "id": "UNHjl5wwB6Xu"
      },
      "execution_count": null,
      "outputs": []
    }
  ]
}