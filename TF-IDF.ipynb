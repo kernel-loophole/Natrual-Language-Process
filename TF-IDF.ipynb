{
  "nbformat": 4,
  "nbformat_minor": 0,
  "metadata": {
    "colab": {
      "provenance": []
    },
    "kernelspec": {
      "name": "python3",
      "display_name": "Python 3"
    },
    "language_info": {
      "name": "python"
    }
  },
  "cells": [
    {
      "cell_type": "code",
      "execution_count": 1,
      "metadata": {
        "id": "hFyWajOkAZyh"
      },
      "outputs": [],
      "source": [
        "from sklearn.feature_extraction.text import TfidfVectorizer\n",
        "\n",
        "# wo vectors, in a given\n",
        "# vector space, can be said to be similar if they have a similar angle. If you imagine each\n",
        "# vector starting at the origin and reaching out its prescribed distance and direction,\n",
        "# the ones that reach out at the same angle are similar, even if they don’t reach out to\n",
        "# the same distance.\n",
        "# Two vectors are considered similar if their cosine similarity is high, so you can find\n",
        "# two similar vectors near each other if they minimize:\n",
        "# cos Θ = A · B\n",
        "# |A| |B|"
      ]
    },
    {
      "cell_type": "code",
      "source": [
        "corpus = ['This is the first document.','This document is the second document.','Is this the first document?']\n",
        "vectorizer = TfidfVectorizer()\n",
        "X = vectorizer.fit_transform(corpus)\n",
        "vectorizer.get_feature_names_out()\n"
      ],
      "metadata": {
        "colab": {
          "base_uri": "https://localhost:8080/"
        },
        "id": "GvoFsFlUA1WK",
        "outputId": "24942f74-1a28-4146-bc70-f4eeb59af244"
      },
      "execution_count": 2,
      "outputs": [
        {
          "output_type": "execute_result",
          "data": {
            "text/plain": [
              "array(['document', 'first', 'is', 'second', 'the', 'this'], dtype=object)"
            ]
          },
          "metadata": {},
          "execution_count": 2
        }
      ]
    },
    {
      "cell_type": "code",
      "source": [
        "X.shape\n",
        "print(X)"
      ],
      "metadata": {
        "colab": {
          "base_uri": "https://localhost:8080/"
        },
        "id": "Ve2C6RfXBMmP",
        "outputId": "3ea34292-038d-4a99-b4f7-8c72b8ce1cbc"
      },
      "execution_count": 4,
      "outputs": [
        {
          "output_type": "stream",
          "name": "stdout",
          "text": [
            "  (0, 0)\t0.42040098658605557\n",
            "  (0, 1)\t0.5413428136679054\n",
            "  (0, 4)\t0.42040098658605557\n",
            "  (0, 2)\t0.42040098658605557\n",
            "  (0, 5)\t0.42040098658605557\n",
            "  (1, 3)\t0.539023509507965\n",
            "  (1, 0)\t0.6367119358515578\n",
            "  (1, 4)\t0.3183559679257789\n",
            "  (1, 2)\t0.3183559679257789\n",
            "  (1, 5)\t0.3183559679257789\n",
            "  (2, 0)\t0.42040098658605557\n",
            "  (2, 1)\t0.5413428136679054\n",
            "  (2, 4)\t0.42040098658605557\n",
            "  (2, 2)\t0.42040098658605557\n",
            "  (2, 5)\t0.42040098658605557\n"
          ]
        }
      ]
    },
    {
      "cell_type": "code",
      "source": [],
      "metadata": {
        "id": "D9tZYCsCBUB0"
      },
      "execution_count": null,
      "outputs": []
    }
  ]
}