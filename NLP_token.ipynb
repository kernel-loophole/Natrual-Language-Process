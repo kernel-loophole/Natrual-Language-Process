{
  "nbformat": 4,
  "nbformat_minor": 0,
  "metadata": {
    "colab": {
      "provenance": []
    },
    "kernelspec": {
      "name": "python3",
      "display_name": "Python 3"
    },
    "language_info": {
      "name": "python"
    }
  },
  "cells": [
    {
      "cell_type": "code",
      "execution_count": 18,
      "metadata": {
        "colab": {
          "base_uri": "https://localhost:8080/"
        },
        "id": "Y_HNiDGwIJei",
        "outputId": "bcbfc689-fdf9-4a82-f41a-49334279e934"
      },
      "outputs": [
        {
          "output_type": "stream",
          "name": "stderr",
          "text": [
            "[nltk_data] Downloading package stopwords to /root/nltk_data...\n",
            "[nltk_data]   Package stopwords is already up-to-date!\n"
          ]
        },
        {
          "output_type": "execute_result",
          "data": {
            "text/plain": [
              "True"
            ]
          },
          "metadata": {},
          "execution_count": 18
        }
      ],
      "source": [
        "import re \n",
        "from nltk.util import ngrams\n",
        "#nltk contain 157\n",
        "#sklearn contain 318 \n",
        "from sklearn.feature_extraction.text import\\\n",
        "ENGLISH_STOP_WORDS as sklearn_stop_words\n",
        "nltk.download('stopwords')"
      ]
    },
    {
      "cell_type": "code",
      "source": [
        "#tokens with re \n",
        "sentence = \"\"\"Thomas Jefferson began building Monticello at the\\\n",
        "age of 26.\"\"\"\n",
        "pattern = re.compile(r\"([-\\s.,;!?])+\")\n",
        "tokens = pattern.split(sentence)\n",
        "tokens = [x for x in tokens if x and x not in '- \\t\\n.,;!?']\n",
        "tokens"
      ],
      "metadata": {
        "colab": {
          "base_uri": "https://localhost:8080/"
        },
        "id": "-aKiZ_JDIYY_",
        "outputId": "3f8bca1b-7cca-4f6a-f453-63073dba3b8a"
      },
      "execution_count": 3,
      "outputs": [
        {
          "output_type": "execute_result",
          "data": {
            "text/plain": [
              "['Thomas',\n",
              " 'Jefferson',\n",
              " 'began',\n",
              " 'building',\n",
              " 'Monticello',\n",
              " 'at',\n",
              " 'theage',\n",
              " 'of',\n",
              " '26']"
            ]
          },
          "metadata": {},
          "execution_count": 3
        }
      ]
    },
    {
      "cell_type": "code",
      "source": [
        "two_grams=list(ngrams(tokens, 2))\n",
        "[\" \".join(x) for x in two_grams]"
      ],
      "metadata": {
        "colab": {
          "base_uri": "https://localhost:8080/"
        },
        "id": "bHQyDPk4ImOb",
        "outputId": "f090719a-63a7-470d-a575-828d16db70f4"
      },
      "execution_count": 9,
      "outputs": [
        {
          "output_type": "execute_result",
          "data": {
            "text/plain": [
              "['Thomas Jefferson',\n",
              " 'Jefferson began',\n",
              " 'began building',\n",
              " 'building Monticello',\n",
              " 'Monticello at',\n",
              " 'at theage',\n",
              " 'theage of',\n",
              " 'of 26']"
            ]
          },
          "metadata": {},
          "execution_count": 9
        }
      ]
    },
    {
      "cell_type": "code",
      "source": [
        "three_grams=list(ngrams(tokens, 3))\n",
        "[\" \".join(x) for x in three_grams]"
      ],
      "metadata": {
        "colab": {
          "base_uri": "https://localhost:8080/"
        },
        "id": "bBG00zhVIyYC",
        "outputId": "5ed5b418-fa79-47c2-a185-5ca3efde12ec"
      },
      "execution_count": 10,
      "outputs": [
        {
          "output_type": "execute_result",
          "data": {
            "text/plain": [
              "['Thomas Jefferson began',\n",
              " 'Jefferson began building',\n",
              " 'began building Monticello',\n",
              " 'building Monticello at',\n",
              " 'Monticello at theage',\n",
              " 'at theage of',\n",
              " 'theage of 26']"
            ]
          },
          "metadata": {},
          "execution_count": 10
        }
      ]
    },
    {
      "cell_type": "markdown",
      "source": [
        "stoping words in **nltk**"
      ],
      "metadata": {
        "id": "juZPqy9_PUup"
      }
    },
    {
      "cell_type": "code",
      "source": [
        "stop_words = nltk.corpus.stopwords.words('english')"
      ],
      "metadata": {
        "id": "Q8B3hhgiI_51"
      },
      "execution_count": 12,
      "outputs": []
    },
    {
      "cell_type": "code",
      "source": [
        "len(stop_words)"
      ],
      "metadata": {
        "colab": {
          "base_uri": "https://localhost:8080/"
        },
        "id": "S_ufGdciPnFR",
        "outputId": "3f709fff-8a8e-472c-c2cd-7100225caed9"
      },
      "execution_count": 13,
      "outputs": [
        {
          "output_type": "execute_result",
          "data": {
            "text/plain": [
              "179"
            ]
          },
          "metadata": {},
          "execution_count": 13
        }
      ]
    },
    {
      "cell_type": "code",
      "source": [
        "stop_words[:10]"
      ],
      "metadata": {
        "colab": {
          "base_uri": "https://localhost:8080/"
        },
        "id": "EbtANKq8Pq5I",
        "outputId": "4638e6cd-9bcf-415b-86a0-21c3f578d924"
      },
      "execution_count": 14,
      "outputs": [
        {
          "output_type": "execute_result",
          "data": {
            "text/plain": [
              "['i', 'me', 'my', 'myself', 'we', 'our', 'ours', 'ourselves', 'you', \"you're\"]"
            ]
          },
          "metadata": {},
          "execution_count": 14
        }
      ]
    },
    {
      "cell_type": "code",
      "source": [
        "#words with len ==1\n",
        "with_len_lessthenone=[x for x in stop_words if len(x)==1]\n",
        "with_len_lessthenone"
      ],
      "metadata": {
        "colab": {
          "base_uri": "https://localhost:8080/"
        },
        "id": "qtmjedcsPuye",
        "outputId": "9ab26d37-513c-4039-f756-278e56213385"
      },
      "execution_count": 17,
      "outputs": [
        {
          "output_type": "execute_result",
          "data": {
            "text/plain": [
              "['i', 'a', 's', 't', 'd', 'm', 'o', 'y']"
            ]
          },
          "metadata": {},
          "execution_count": 17
        }
      ]
    },
    {
      "cell_type": "code",
      "source": [],
      "metadata": {
        "id": "QOSymNNnP6B1"
      },
      "execution_count": 21,
      "outputs": []
    },
    {
      "cell_type": "code",
      "source": [],
      "metadata": {
        "id": "FpGxBmL8RECP"
      },
      "execution_count": null,
      "outputs": []
    }
  ]
}