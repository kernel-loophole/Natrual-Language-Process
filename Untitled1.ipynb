{
 "cells": [
  {
   "cell_type": "code",
   "execution_count": 1,
   "id": "f8647481",
   "metadata": {},
   "outputs": [],
   "source": [
    "import pandas as pd"
   ]
  },
  {
   "cell_type": "code",
   "execution_count": 3,
   "id": "c6aa0026",
   "metadata": {},
   "outputs": [
    {
     "name": "stdout",
     "output_type": "stream",
     "text": [
      "Collecting nlpia\n",
      "  Downloading nlpia-0.5.2-py2.py3-none-any.whl (32.0 MB)\n",
      "\u001b[K     |████████████████████████████████| 32.0 MB 949 kB/s eta 0:00:01    |██                              | 1.9 MB 74 kB/s eta 0:06:47\n",
      "\u001b[?25hCollecting html5lib\n",
      "  Downloading html5lib-1.1-py2.py3-none-any.whl (112 kB)\n",
      "\u001b[K     |████████████████████████████████| 112 kB 666 kB/s eta 0:00:01\n",
      "\u001b[?25hCollecting pypandoc\n",
      "  Downloading pypandoc-1.11-py3-none-any.whl (20 kB)\n",
      "Requirement already satisfied: seaborn in /home/hiader/anaconda3/lib/python3.9/site-packages (from nlpia) (0.11.2)\n",
      "Requirement already satisfied: future in /home/hiader/anaconda3/lib/python3.9/site-packages (from nlpia) (0.18.2)\n",
      "Requirement already satisfied: matplotlib in /home/hiader/anaconda3/lib/python3.9/site-packages (from nlpia) (3.5.1)\n",
      "Requirement already satisfied: h5py in /home/hiader/anaconda3/lib/python3.9/site-packages (from nlpia) (3.6.0)\n",
      "Collecting python-Levenshtein\n",
      "  Downloading python_Levenshtein-0.20.9-py3-none-any.whl (9.4 kB)\n",
      "Requirement already satisfied: regex in /home/hiader/anaconda3/lib/python3.9/site-packages (from nlpia) (2022.3.15)\n",
      "Collecting tensorflow\n",
      "  Downloading tensorflow-2.12.0-cp39-cp39-manylinux_2_17_x86_64.manylinux2014_x86_64.whl (585.9 MB)\n",
      "\u001b[K     |█▊                              | 31.9 MB 185 kB/s eta 0:49:41^C5:41\n",
      "\n",
      "\u001b[31mERROR: Operation cancelled by user\u001b[0m\n"
     ]
    },
    {
     "ename": "ModuleNotFoundError",
     "evalue": "No module named 'nlpia'",
     "output_type": "error",
     "traceback": [
      "\u001b[0;31m---------------------------------------------------------------------------\u001b[0m",
      "\u001b[0;31mModuleNotFoundError\u001b[0m                       Traceback (most recent call last)",
      "Input \u001b[0;32mIn [3]\u001b[0m, in \u001b[0;36m<cell line: 2>\u001b[0;34m()\u001b[0m\n\u001b[1;32m      1\u001b[0m get_ipython()\u001b[38;5;241m.\u001b[39msystem(\u001b[38;5;124m'\u001b[39m\u001b[38;5;124mpip install nlpia\u001b[39m\u001b[38;5;124m'\u001b[39m)\n\u001b[0;32m----> 2\u001b[0m \u001b[38;5;28;01mfrom\u001b[39;00m \u001b[38;5;21;01mnlpia\u001b[39;00m\u001b[38;5;21;01m.\u001b[39;00m\u001b[38;5;21;01mdata\u001b[39;00m\u001b[38;5;21;01m.\u001b[39;00m\u001b[38;5;21;01mloaders\u001b[39;00m \u001b[38;5;28;01mimport\u001b[39;00m get_data\n",
      "\u001b[0;31mModuleNotFoundError\u001b[0m: No module named 'nlpia'"
     ]
    }
   ],
   "source": []
  },
  {
   "cell_type": "code",
   "execution_count": null,
   "id": "1a8a895d",
   "metadata": {},
   "outputs": [],
   "source": []
  }
 ],
 "metadata": {
  "kernelspec": {
   "display_name": "Python 3 (ipykernel)",
   "language": "python",
   "name": "python3"
  },
  "language_info": {
   "codemirror_mode": {
    "name": "ipython",
    "version": 3
   },
   "file_extension": ".py",
   "mimetype": "text/x-python",
   "name": "python",
   "nbconvert_exporter": "python",
   "pygments_lexer": "ipython3",
   "version": "3.9.12"
  }
 },
 "nbformat": 4,
 "nbformat_minor": 5
}
