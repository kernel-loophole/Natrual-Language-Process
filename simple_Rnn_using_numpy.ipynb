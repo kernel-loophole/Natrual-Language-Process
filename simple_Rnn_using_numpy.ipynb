{
  "nbformat": 4,
  "nbformat_minor": 0,
  "metadata": {
    "colab": {
      "provenance": []
    },
    "kernelspec": {
      "name": "python3",
      "display_name": "Python 3"
    },
    "language_info": {
      "name": "python"
    }
  },
  "cells": [
    {
      "cell_type": "code",
      "execution_count": 12,
      "metadata": {
        "id": "oDukKnMVv0gX"
      },
      "outputs": [],
      "source": [
        "import numpy as np"
      ]
    },
    {
      "cell_type": "code",
      "source": [
        "#It loops over timesteps, and at\n",
        "#each timestep, it considers its current state at t and the input at t (of shape (input_\n",
        "#features,), and combines them to obtain the output at t\n",
        "timesteps = 100\n",
        "input_features = 32\n",
        "output_features = 64"
      ],
      "metadata": {
        "id": "hNARbaWfv3SB"
      },
      "execution_count": 20,
      "outputs": []
    },
    {
      "cell_type": "code",
      "source": [
        "#Random Values for weigth and baise \n",
        "#Biase is used to learn the model derviate transformation\n",
        "inputs = np.random.random((timesteps, input_features))\n",
        "state_t = np.zeros((output_features,))\n",
        "W = np.random.random((output_features, input_features))\n",
        "U = np.random.random((output_features, output_features))\n",
        "b = np.random.random((output_features,))"
      ],
      "metadata": {
        "id": "oVNC3Jf-v_BO"
      },
      "execution_count": 14,
      "outputs": []
    },
    {
      "cell_type": "code",
      "source": [
        "successive_outputs = []"
      ],
      "metadata": {
        "id": "IQpLjbeawAxe"
      },
      "execution_count": 15,
      "outputs": []
    },
    {
      "cell_type": "code",
      "source": [
        "for input_t in inputs:\n",
        "  output_t = np.tanh(np.dot(W, input_t) + np.dot(U, state_t) + b)\n",
        "  successive_outputs.append(output_t)"
      ],
      "metadata": {
        "id": "G56WbSLawHP6"
      },
      "execution_count": 16,
      "outputs": []
    },
    {
      "cell_type": "code",
      "source": [
        "state_t = output_t"
      ],
      "metadata": {
        "id": "rXzCcifcwJgo"
      },
      "execution_count": 17,
      "outputs": []
    },
    {
      "cell_type": "code",
      "source": [
        "final_output_sequence = np.concatenate(successive_outputs, axis=0)"
      ],
      "metadata": {
        "id": "pESdxk1WwPVo"
      },
      "execution_count": 18,
      "outputs": []
    },
    {
      "cell_type": "code",
      "source": [
        "final_output_sequence.shape"
      ],
      "metadata": {
        "colab": {
          "base_uri": "https://localhost:8080/"
        },
        "id": "IaKBP_pzwRS7",
        "outputId": "61cb95d5-9aa7-4b69-c775-504f578944c4"
      },
      "execution_count": 19,
      "outputs": [
        {
          "output_type": "execute_result",
          "data": {
            "text/plain": [
              "(6400,)"
            ]
          },
          "metadata": {},
          "execution_count": 19
        }
      ]
    },
    {
      "cell_type": "code",
      "source": [],
      "metadata": {
        "id": "ZeSFfDcUwTyn"
      },
      "execution_count": 19,
      "outputs": []
    }
  ]
}