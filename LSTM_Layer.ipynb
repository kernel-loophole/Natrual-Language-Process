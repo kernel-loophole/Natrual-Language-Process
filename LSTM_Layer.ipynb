{
  "nbformat": 4,
  "nbformat_minor": 0,
  "metadata": {
    "colab": {
      "provenance": []
    },
    "kernelspec": {
      "name": "python3",
      "display_name": "Python 3"
    },
    "language_info": {
      "name": "python"
    }
  },
  "cells": [
    {
      "cell_type": "code",
      "execution_count": 1,
      "metadata": {
        "id": "dHmnqnkuLfYp"
      },
      "outputs": [],
      "source": [
        "from keras.models import Sequential\n",
        "from keras.layers import Dense, Dropout, Flatten, LSTM"
      ]
    },
    {
      "cell_type": "code",
      "source": [
        "maxlen = 400\n",
        "batch_size = 32\n",
        "embedding_dims = 300\n",
        "epochs = 2"
      ],
      "metadata": {
        "id": "dGUSZ2alLsE1"
      },
      "execution_count": 2,
      "outputs": []
    },
    {
      "cell_type": "code",
      "source": [
        "num_neurons = 50\n",
        "model = Sequential()\n",
        "model.add(LSTM(num_neurons, return_sequences=True,input_shape=(maxlen, embedding_dims)))"
      ],
      "metadata": {
        "id": "OYYNu9qZLyK9"
      },
      "execution_count": 3,
      "outputs": []
    },
    {
      "cell_type": "code",
      "source": [
        "model.add(Dropout(.2))\n",
        "model.add(Flatten())\n",
        "model.add(Dense(1, activation='sigmoid'))\n",
        "model.compile('rmsprop', 'binary_crossentropy', metrics=['accuracy'])\n",
        "print(model.summary())\n",
        "#===========Some Calculations =========\n",
        "#300 (one for each element of the input vector)\n",
        "#1 (one for the bias term)\n",
        "#50 (one for each neuron’s output from the previous time step)\n",
        "#===============Total cal==========\n",
        "#For a total of 351 per neuron.\n",
        "#351 * 50 = 17,550 for the layer\n",
        "#The cells have three gates (a total of four neurons):\n",
        "#           17,550 * 4 = 70,200"
      ],
      "metadata": {
        "colab": {
          "base_uri": "https://localhost:8080/"
        },
        "id": "LydjtLZuL6B6",
        "outputId": "af786d26-e753-4f80-f735-3372d619b024"
      },
      "execution_count": 4,
      "outputs": [
        {
          "output_type": "stream",
          "name": "stdout",
          "text": [
            "Model: \"sequential\"\n",
            "_________________________________________________________________\n",
            " Layer (type)                Output Shape              Param #   \n",
            "=================================================================\n",
            " lstm (LSTM)                 (None, 400, 50)           70200     \n",
            "                                                                 \n",
            " dropout (Dropout)           (None, 400, 50)           0         \n",
            "                                                                 \n",
            " flatten (Flatten)           (None, 20000)             0         \n",
            "                                                                 \n",
            " dense (Dense)               (None, 1)                 20001     \n",
            "                                                                 \n",
            "=================================================================\n",
            "Total params: 90,201\n",
            "Trainable params: 90,201\n",
            "Non-trainable params: 0\n",
            "_________________________________________________________________\n",
            "None\n"
          ]
        }
      ]
    },
    {
      "cell_type": "code",
      "source": [
        "#But what is the memory?\n",
        "#example has a relatively simple\n",
        "#50 neurons, so the memory unit will be a vector of floats that is 50 elements long."
      ],
      "metadata": {
        "id": "tjjAIlrYMCK7"
      },
      "execution_count": null,
      "outputs": []
    }
  ]
}