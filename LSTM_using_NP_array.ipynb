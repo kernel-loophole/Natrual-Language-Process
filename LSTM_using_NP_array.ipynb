{
  "nbformat": 4,
  "nbformat_minor": 0,
  "metadata": {
    "colab": {
      "provenance": []
    },
    "kernelspec": {
      "name": "python3",
      "display_name": "Python 3"
    },
    "language_info": {
      "name": "python"
    }
  },
  "cells": [
    {
      "cell_type": "code",
      "execution_count": null,
      "metadata": {
        "id": "oELrtazNMc1R"
      },
      "outputs": [],
      "source": [
        "from keras.models import Sequential\n",
        "from keras.layers import Dense, Dropout, Embedding, Flatten, LSTM\n",
        "import numpy as np\n",
        "from keras.models import model_from_json\n"
      ]
    },
    {
      "cell_type": "code",
      "source": [
        "char_indices={'x': 0, 'i': 1, 'r': 2, '8': 3, 'c': 4, ',': 5, 'y': 6, '?': 7, 'h': 8, 'm': 9, 'z': 10, 'k': 11, '5': 12, 'a': 13, '0': 14, 'g': 15, ';': 16, ' ': 17, 'f': 18, 'u': 19, 'w': 20, 'n': 21, '4': 22, '!': 23, '2': 24, 'p': 25, 'd': 26, '\"': 27, 'l': 28, '3': 29, '.': 30, 'UNK': 31, '6': 32, 'PAD': 33, 'o': 34, '7': 35, '1': 36, 'e': 37, ':': 38, 'q': 39, 'b': 40, 'j': 41, 't': 42, 's': 43, '9': 44, 'v': 45, \"'\": 46}"
      ],
      "metadata": {
        "id": "Y8VopPYMjW4y"
      },
      "execution_count": null,
      "outputs": []
    },
    {
      "cell_type": "code",
      "source": [
        "maxlen = 1000\n",
        "num_neurons = 40\n",
        "model = Sequential()\n",
        "model.add(LSTM(num_neurons,\n",
        "return_sequences=True,\n",
        "input_shape=(maxlen, len(char_indices.keys()))))"
      ],
      "metadata": {
        "id": "yRYrstJFN6xh"
      },
      "execution_count": null,
      "outputs": []
    },
    {
      "cell_type": "code",
      "source": [
        "model.add(Dropout(.2))\n",
        "model.add(Flatten())\n",
        "model.add(Dense(1, activation='sigmoid'))\n",
        "model.compile('rmsprop', 'binary_crossentropy', metrics=['accuracy'])\n",
        "model.summary()"
      ],
      "metadata": {
        "colab": {
          "base_uri": "https://localhost:8080/"
        },
        "id": "9-hAytsIj5L2",
        "outputId": "3bfb1a88-f7b8-4546-a137-3edcf9fd9b9e"
      },
      "execution_count": null,
      "outputs": [
        {
          "output_type": "stream",
          "name": "stdout",
          "text": [
            "Model: \"sequential\"\n",
            "_________________________________________________________________\n",
            " Layer (type)                Output Shape              Param #   \n",
            "=================================================================\n",
            " lstm (LSTM)                 (None, 1000, 40)          14080     \n",
            "                                                                 \n",
            " dropout (Dropout)           (None, 1000, 40)          0         \n",
            "                                                                 \n",
            " flatten (Flatten)           (None, 40000)             0         \n",
            "                                                                 \n",
            " dense (Dense)               (None, 1)                 40001     \n",
            "                                                                 \n",
            "=================================================================\n",
            "Total params: 54,081\n",
            "Trainable params: 54,081\n",
            "Non-trainable params: 0\n",
            "_________________________________________________________________\n"
          ]
        }
      ]
    },
    {
      "cell_type": "code",
      "source": [
        "x_test= np.load('x_test.npy')\n",
        "x_train= np.load('x_train.npy')\n",
        "y_test= np.load('y_test.npy')\n",
        "y_train= np.load('y_train.npy')"
      ],
      "metadata": {
        "id": "ku3Zg0wGlCt6"
      },
      "execution_count": null,
      "outputs": []
    },
    {
      "cell_type": "code",
      "source": [
        "print(x_test.shape)"
      ],
      "metadata": {
        "colab": {
          "base_uri": "https://localhost:8080/"
        },
        "id": "T1DBWnRFwqwi",
        "outputId": "a2d4f3e9-7918-4677-d080-5eb4153e7fbc"
      },
      "execution_count": null,
      "outputs": [
        {
          "output_type": "stream",
          "name": "stdout",
          "text": [
            "(29, 1000, 47)\n"
          ]
        }
      ]
    },
    {
      "cell_type": "code",
      "source": [
        "batch_size = 10\n",
        "epochs = 10\n",
        "model.fit(x_train, y_train,\n",
        "batch_size=batch_size,\n",
        "epochs=epochs,\n",
        "validation_data=(x_test, y_test))"
      ],
      "metadata": {
        "colab": {
          "base_uri": "https://localhost:8080/"
        },
        "id": "76wFwPbnw13J",
        "outputId": "e001129e-e0fb-4128-890e-fa633671af11"
      },
      "execution_count": null,
      "outputs": [
        {
          "output_type": "stream",
          "name": "stdout",
          "text": [
            "Epoch 1/10\n",
            "12/12 [==============================] - 9s 466ms/step - loss: 0.8566 - accuracy: 0.4174 - val_loss: 0.7230 - val_accuracy: 0.5172\n",
            "Epoch 2/10\n",
            "12/12 [==============================] - 6s 515ms/step - loss: 0.5946 - accuracy: 0.7130 - val_loss: 0.8452 - val_accuracy: 0.3448\n",
            "Epoch 3/10\n",
            "12/12 [==============================] - 5s 413ms/step - loss: 0.4804 - accuracy: 0.8957 - val_loss: 0.8949 - val_accuracy: 0.3448\n",
            "Epoch 4/10\n",
            "12/12 [==============================] - 5s 418ms/step - loss: 0.3819 - accuracy: 0.9304 - val_loss: 0.7802 - val_accuracy: 0.4138\n",
            "Epoch 5/10\n",
            "12/12 [==============================] - 6s 519ms/step - loss: 0.2954 - accuracy: 0.9652 - val_loss: 0.7229 - val_accuracy: 0.5517\n",
            "Epoch 6/10\n",
            "12/12 [==============================] - 5s 414ms/step - loss: 0.1993 - accuracy: 0.9913 - val_loss: 1.1303 - val_accuracy: 0.4138\n",
            "Epoch 7/10\n",
            "12/12 [==============================] - 6s 520ms/step - loss: 0.1298 - accuracy: 1.0000 - val_loss: 0.8328 - val_accuracy: 0.5517\n",
            "Epoch 8/10\n",
            "12/12 [==============================] - 5s 406ms/step - loss: 0.0767 - accuracy: 1.0000 - val_loss: 1.0394 - val_accuracy: 0.5517\n",
            "Epoch 9/10\n",
            "12/12 [==============================] - 6s 496ms/step - loss: 0.0475 - accuracy: 1.0000 - val_loss: 1.1458 - val_accuracy: 0.5517\n",
            "Epoch 10/10\n",
            "12/12 [==============================] - 5s 421ms/step - loss: 0.0265 - accuracy: 1.0000 - val_loss: 1.5484 - val_accuracy: 0.4483\n"
          ]
        },
        {
          "output_type": "execute_result",
          "data": {
            "text/plain": [
              "<keras.callbacks.History at 0x7b097cd5fc10>"
            ]
          },
          "metadata": {},
          "execution_count": 11
        }
      ]
    },
    {
      "cell_type": "code",
      "source": [
        "model_structure = model.to_json()\n",
        "with open(\"char_lstm_model3.json\", \"w\") as json_file:\n",
        "  json_file.write(model_structure)\n",
        "model.save_weights(\"char_lstm_weights3.h5\")"
      ],
      "metadata": {
        "id": "AsM9dfvDxauc"
      },
      "execution_count": null,
      "outputs": []
    },
    {
      "cell_type": "code",
      "source": [
        "# Function to generate text using the trained model\n",
        "\n",
        "with open(\"char_lstm_model3.json\", \"r\") as json_file:\n",
        "    loaded_model_json = json_file.read()\n",
        "\n",
        "model = model_from_json(loaded_model_json)\n",
        "model.load_weights(\"char_lstm_weights3.h5\")\n",
        "model.compile('rmsprop', 'binary_crossentropy', metrics=['accuracy'])\n",
        "\n",
        "def generate_text(model, input_text, max_length=10):\n",
        "    generated_text = input_text[-maxlen:]  # Initialize the generated text with the last 'maxlen' characters of the input\n",
        "    for _ in range(max_length - len(input_text)):\n",
        "        encoded_input = np.zeros((1, maxlen, len(char_indices.keys())))\n",
        "        for t, char in enumerate(generated_text[-maxlen:]):\n",
        "            encoded_input[0, t, char_indices[char]] = 1.0\n",
        "\n",
        "        predicted_char_prob = model.predict(encoded_input)[0][0]\n",
        "        predicted_char = next((char for char, index in char_indices.items() if index == round(predicted_char_prob)), \"UNK\")\n",
        "        generated_text += predicted_char\n",
        "\n",
        "    return generated_text\n",
        "\n",
        "# User input\n",
        "user_input = input(\"Enter a seed text: \")\n",
        "\n",
        "# Generate text and display it\n",
        "generated_text = generate_text(model, user_input)\n",
        "print(\"Generated text:\")\n",
        "print(generated_text)\n"
      ],
      "metadata": {
        "colab": {
          "base_uri": "https://localhost:8080/"
        },
        "id": "MpEhygsJxxP6",
        "outputId": "cf060888-dda9-44fd-a3db-8058de400780"
      },
      "execution_count": null,
      "outputs": [
        {
          "output_type": "stream",
          "name": "stdout",
          "text": [
            "Enter a seed text: hi there \n",
            "1/1 [==============================] - 1s 772ms/step\n",
            "Generated text:\n",
            "hi there x\n"
          ]
        }
      ]
    },
    {
      "cell_type": "code",
      "source": [],
      "metadata": {
        "id": "at6pMDa-ylgX"
      },
      "execution_count": null,
      "outputs": []
    }
  ]
}